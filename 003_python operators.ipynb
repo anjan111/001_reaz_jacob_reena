{
 "cells": [
  {
   "cell_type": "code",
   "execution_count": 1,
   "metadata": {},
   "outputs": [
    {
     "name": "stdout",
     "output_type": "stream",
     "text": [
      "30\n",
      "10\n",
      "36\n",
      "4\n",
      "7\n"
     ]
    }
   ],
   "source": [
    "# arithmetic operators\n",
    "print 10 +20\n",
    "print 20 -10\n",
    "print 12*3\n",
    "print 12/3\n",
    "print 14%2"
   ]
  },
  {
   "cell_type": "code",
   "execution_count": 2,
   "metadata": {},
   "outputs": [
    {
     "name": "stdout",
     "output_type": "stream",
     "text": [
      "1728\n",
      "6\n",
      "6\n",
      "\n"
     ]
    }
   ],
   "source": [
    "print 12**3\n",
    "print  13//2\n",
    "print 13/2\n",
    "print "
   ]
  },
  {
   "cell_type": "code",
   "execution_count": 3,
   "metadata": {},
   "outputs": [
    {
     "name": "stdout",
     "output_type": "stream",
     "text": [
      "6.0\n",
      "6.5\n",
      "\n"
     ]
    }
   ],
   "source": [
    "print  13.0//2\n",
    "print 13.0/2\n",
    "print "
   ]
  },
  {
   "cell_type": "code",
   "execution_count": 4,
   "metadata": {},
   "outputs": [
    {
     "name": "stdout",
     "output_type": "stream",
     "text": [
      "True\n",
      "False\n"
     ]
    }
   ],
   "source": [
    "# Relational Operator\n",
    "print 10 < 20\n",
    "print 20 < 10\n"
   ]
  },
  {
   "cell_type": "code",
   "execution_count": 5,
   "metadata": {},
   "outputs": [
    {
     "name": "stdout",
     "output_type": "stream",
     "text": [
      "False\n",
      "True\n"
     ]
    }
   ],
   "source": [
    "print 10 > 20\n",
    "print 20 > 10\n"
   ]
  },
  {
   "cell_type": "code",
   "execution_count": 6,
   "metadata": {},
   "outputs": [
    {
     "name": "stdout",
     "output_type": "stream",
     "text": [
      "False\n",
      "True\n"
     ]
    }
   ],
   "source": [
    "print 10 == 20\n",
    "print 20 == 20\n"
   ]
  },
  {
   "cell_type": "code",
   "execution_count": 7,
   "metadata": {},
   "outputs": [
    {
     "name": "stdout",
     "output_type": "stream",
     "text": [
      "True\n",
      "False\n"
     ]
    }
   ],
   "source": [
    "print 10 != 20\n",
    "print 20 != 20\n"
   ]
  },
  {
   "cell_type": "code",
   "execution_count": 8,
   "metadata": {},
   "outputs": [
    {
     "name": "stdout",
     "output_type": "stream",
     "text": [
      "True\n",
      "True\n",
      "False\n"
     ]
    }
   ],
   "source": [
    "print 10 <= 20\n",
    "print 20 <= 20\n",
    "print 20 <= 10\n"
   ]
  },
  {
   "cell_type": "code",
   "execution_count": 9,
   "metadata": {},
   "outputs": [
    {
     "name": "stdout",
     "output_type": "stream",
     "text": [
      "False\n",
      "True\n",
      "True\n"
     ]
    }
   ],
   "source": [
    "print 10 >= 20\n",
    "print 20 >= 10\n",
    "print 20 >= 20\n"
   ]
  },
  {
   "cell_type": "code",
   "execution_count": 12,
   "metadata": {},
   "outputs": [
    {
     "name": "stdout",
     "output_type": "stream",
     "text": [
      "10\n",
      "20\n",
      "0\n"
     ]
    }
   ],
   "source": [
    "# logical operator\n",
    "# AND ---->> and\n",
    "'''\n",
    "ip1  and ip2 ---->>>  ip1/ ip2\n",
    "\n",
    "ip1 ---->> False case ---->> res --->>> ip1\n",
    "ip1 ---->> True case ------>> res ---->> ip2 \n",
    "'''\n",
    "print 20 and 10 # 10\n",
    "print 10 and 20 #20\n",
    "print 0 and 30"
   ]
  },
  {
   "cell_type": "code",
   "execution_count": null,
   "metadata": {},
   "outputs": [],
   "source": [
    "# logical operator\n",
    "# OR ---->> or\n",
    "'''\n",
    "ip1  or ip2 ---->>>  ip1/ ip2\n",
    "\n",
    "ip1 ---->> False case ---->> res --->>>ip2\n",
    "ip1 ---->> True case ------>> res ---->> ip1\n",
    "'''\n",
    "print 20 or 10 # \n",
    "print 10 or 20 #\n",
    "print 0 or 30#"
   ]
  },
  {
   "cell_type": "code",
   "execution_count": 13,
   "metadata": {},
   "outputs": [
    {
     "name": "stdout",
     "output_type": "stream",
     "text": [
      "True\n",
      "False\n"
     ]
    }
   ],
   "source": [
    "# Logical Not \n",
    "'''\n",
    "ip1 not --->>> True /False\n",
    "ip1 --->> False case ---->>> True\n",
    "ip1 --->> True case ------>>> False\n",
    "'''\n",
    "print not False\n",
    "print not 56"
   ]
  },
  {
   "cell_type": "code",
   "execution_count": 14,
   "metadata": {},
   "outputs": [
    {
     "name": "stdout",
     "output_type": "stream",
     "text": [
      "True\n",
      "False\n"
     ]
    }
   ],
   "source": [
    "# Special Operator\n",
    "# ,memberhip Operator\n",
    "'''\n",
    "\n",
    "in  --->> True\n",
    "in  ---->> Fale\n",
    "\n",
    "'''\n",
    "print 10 in [1,45,10,3]\n",
    "print 20 in [2,5,14]"
   ]
  },
  {
   "cell_type": "code",
   "execution_count": 15,
   "metadata": {},
   "outputs": [
    {
     "name": "stdout",
     "output_type": "stream",
     "text": [
      "False\n",
      "True\n"
     ]
    }
   ],
   "source": [
    "# Special Operator\n",
    "# ,memberhip Operator\n",
    "'''\n",
    "\n",
    "not in  --->> True\n",
    "not in  ---->> Fale\n",
    "\n",
    "'''\n",
    "print 10 not in [1,45,10,3]\n",
    "print 20 not in [2,5,14]"
   ]
  },
  {
   "cell_type": "code",
   "execution_count": 16,
   "metadata": {},
   "outputs": [
    {
     "name": "stdout",
     "output_type": "stream",
     "text": [
      "False\n",
      "True\n"
     ]
    }
   ],
   "source": [
    "# identity operator\n",
    "'''\n",
    "to check the memory loc\n",
    "\n",
    "is --->> False --->> different\n",
    "is --->> True -----> same\n",
    "\n",
    "\n",
    "'''\n",
    "print 10 is 20\n",
    "print 20 is 20"
   ]
  },
  {
   "cell_type": "code",
   "execution_count": 17,
   "metadata": {},
   "outputs": [
    {
     "name": "stdout",
     "output_type": "stream",
     "text": [
      "True\n",
      "False\n"
     ]
    }
   ],
   "source": [
    "# identity operator\n",
    "'''\n",
    "to check the memory loc\n",
    "\n",
    "is not --->>True --->> different\n",
    "is not --->> False -----> same\n",
    "\n",
    "\n",
    "'''\n",
    "print 10 is not 20\n",
    "print 20 is not  20"
   ]
  },
  {
   "cell_type": "code",
   "execution_count": 18,
   "metadata": {},
   "outputs": [
    {
     "name": "stdout",
     "output_type": "stream",
     "text": [
      "10\n",
      "10\n",
      "20\n"
     ]
    }
   ],
   "source": [
    "a =10\n",
    "print a\n",
    "b = a\n",
    "print b\n",
    "c = a+b\n",
    "print c"
   ]
  },
  {
   "cell_type": "code",
   "execution_count": 24,
   "metadata": {},
   "outputs": [
    {
     "name": "stdout",
     "output_type": "stream",
     "text": [
      "30\n"
     ]
    }
   ],
   "source": [
    "# compound assignment\n",
    "\n",
    "a  = 10\n",
    "b =20\n",
    "a += b # a = a+b\n",
    "print a"
   ]
  },
  {
   "cell_type": "code",
   "execution_count": 25,
   "metadata": {},
   "outputs": [
    {
     "name": "stdout",
     "output_type": "stream",
     "text": [
      "-10\n"
     ]
    }
   ],
   "source": [
    "# compound assignment\n",
    "\n",
    "a  = 10\n",
    "b =20\n",
    "a -= b # a = a-b\n",
    "print a"
   ]
  },
  {
   "cell_type": "code",
   "execution_count": 26,
   "metadata": {},
   "outputs": [
    {
     "name": "stdout",
     "output_type": "stream",
     "text": [
      "200\n"
     ]
    }
   ],
   "source": [
    "# compound assignment\n",
    "\n",
    "a  = 10\n",
    "b =20\n",
    "a *= b # a = a*b\n",
    "print a"
   ]
  },
  {
   "cell_type": "code",
   "execution_count": 27,
   "metadata": {},
   "outputs": [
    {
     "name": "stdout",
     "output_type": "stream",
     "text": [
      "10\n"
     ]
    }
   ],
   "source": [
    "# compound assignment\n",
    "\n",
    "a  = 10\n",
    "b =20\n",
    "a %= b # a = a%b\n",
    "print a"
   ]
  },
  {
   "cell_type": "code",
   "execution_count": null,
   "metadata": {},
   "outputs": [],
   "source": []
  },
  {
   "cell_type": "code",
   "execution_count": null,
   "metadata": {},
   "outputs": [],
   "source": []
  },
  {
   "cell_type": "code",
   "execution_count": null,
   "metadata": {},
   "outputs": [],
   "source": []
  },
  {
   "cell_type": "code",
   "execution_count": null,
   "metadata": {},
   "outputs": [],
   "source": []
  },
  {
   "cell_type": "code",
   "execution_count": null,
   "metadata": {},
   "outputs": [],
   "source": []
  },
  {
   "cell_type": "code",
   "execution_count": null,
   "metadata": {},
   "outputs": [],
   "source": []
  }
 ],
 "metadata": {
  "kernelspec": {
   "display_name": "Python 2",
   "language": "python",
   "name": "python2"
  },
  "language_info": {
   "codemirror_mode": {
    "name": "ipython",
    "version": 2
   },
   "file_extension": ".py",
   "mimetype": "text/x-python",
   "name": "python",
   "nbconvert_exporter": "python",
   "pygments_lexer": "ipython2",
   "version": "2.7.16"
  }
 },
 "nbformat": 4,
 "nbformat_minor": 2
}
