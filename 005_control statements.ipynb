{
 "cells": [
  {
   "cell_type": "code",
   "execution_count": 2,
   "metadata": {},
   "outputs": [
    {
     "name": "stdout",
     "output_type": "stream",
     "text": [
      "enter radius : 54.22\n",
      "area :  9239.39782857\n"
     ]
    }
   ],
   "source": [
    "# control statements are used for to change the flow of execution of the program\n",
    "# conditional statements\n",
    "'''\n",
    "1. simple if \n",
    "2. if and else\n",
    "3. nested if \n",
    "4. elif ladder\n",
    "'''\n",
    "# simple if \n",
    "'''\n",
    "if(conditon):\n",
    "    Task\n",
    "    ----\n",
    "    ----\n",
    "    ----\n",
    "\n",
    "'''\n",
    "# wap find the area of circle when radius is float\n",
    "rad = input(\"enter radius : \")\n",
    "if( isinstance(rad,float)):\n",
    "    pi = 22.0/7\n",
    "    area = pi*(rad ** 2)\n",
    "    print \"area : \",area"
   ]
  },
  {
   "cell_type": "code",
   "execution_count": 4,
   "metadata": {},
   "outputs": [
    {
     "name": "stdout",
     "output_type": "stream",
     "text": [
      "enter a num : 46\n",
      "46  is even \n"
     ]
    }
   ],
   "source": [
    "# if and else\n",
    "'''\n",
    "if (condition):\n",
    "    Task\n",
    "else:\n",
    "    Task\n",
    "'''\n",
    "# wap print the given number is even or odd\n",
    "num = input(\"enter a num : \")\n",
    "if(num % 2 == 0 ):\n",
    "    print num,\" is even \"\n",
    "else:\n",
    "    print num,\" is odd\""
   ]
  },
  {
   "cell_type": "code",
   "execution_count": 6,
   "metadata": {},
   "outputs": [
    {
     "name": "stdout",
     "output_type": "stream",
     "text": [
      "enter exp : 5\n",
      "salary : 8.0 lac PA\n"
     ]
    }
   ],
   "source": [
    "# elif ladder \n",
    "'''\n",
    "if(C1):\n",
    "    Task1\n",
    "elif(C2):\n",
    "    Task2\n",
    "elif(C3):\n",
    "    Task3\n",
    "elif(C4):\n",
    "    Task4\n",
    "else:\n",
    "    Task\n",
    "\n",
    "'''\n",
    "#wap fix the salary based on exp\n",
    "exp = input(\"enter exp : \")\n",
    "if(exp > 0 and exp <=2):\n",
    "    print \"salary : 3.2 lac PA\"\n",
    "elif(exp > 2 and exp <=4):\n",
    "    print \"salary : 6.0 lac PA\"\n",
    "elif(exp > 4 and exp <=7):\n",
    "    print \"salary : 8.0 lac PA\"   \n",
    "elif(exp > 7 and exp <=10):\n",
    "    print \"salary : 12 lac PA\"\n",
    "elif(exp > 10):\n",
    "    print \"salary : 20 lac PA\"\n",
    "else:\n",
    "    print \"please enter the proper no of exp\""
   ]
  },
  {
   "cell_type": "code",
   "execution_count": 7,
   "metadata": {},
   "outputs": [
    {
     "name": "stdout",
     "output_type": "stream",
     "text": [
      "enter a : 89\n",
      "enter b : 56\n",
      "enter c : 123\n",
      "c :  123\n"
     ]
    }
   ],
   "source": [
    "# nested if \n",
    "'''\n",
    "block:\n",
    "    block\n",
    "\n",
    "'''\n",
    "#wap find the largest number from 3 numbers \n",
    "a = input(\"enter a : \")\n",
    "b = input(\"enter b : \")\n",
    "c = input(\"enter c : \")\n",
    "if(a < b):\n",
    "    if(b> c):\n",
    "        print \"b : \",b\n",
    "    else:\n",
    "        print \"c : \",c\n",
    "else:\n",
    "    if(a> c):\n",
    "        print \"a : \",a\n",
    "    else:\n",
    "        print \"c : \",c"
   ]
  },
  {
   "cell_type": "code",
   "execution_count": 8,
   "metadata": {},
   "outputs": [],
   "source": [
    "#wap find the given year is leap year or not \n",
    "# wap find the grading system based on student percentage"
   ]
  },
  {
   "cell_type": "code",
   "execution_count": 9,
   "metadata": {},
   "outputs": [
    {
     "name": "stdout",
     "output_type": "stream",
     "text": [
      "1\n",
      "2\n",
      "3\n",
      "4\n",
      "5\n",
      "6\n",
      "7\n",
      "8\n",
      "9\n",
      "10\n"
     ]
    }
   ],
   "source": [
    "# looping statements\n",
    "'''\n",
    "--->> Task ---> executes multiple times \n",
    "1. while \n",
    "2. for\n",
    "'''\n",
    "# while\n",
    "'''\n",
    "while(condition):\n",
    "    Task\n",
    "    -----\n",
    "    -----\n",
    "'''\n",
    "#wap print 1 to 10\n",
    "i = 1\n",
    "while(i <= 10):\n",
    "    print i\n",
    "    i = i +1"
   ]
  },
  {
   "cell_type": "code",
   "execution_count": 10,
   "metadata": {},
   "outputs": [
    {
     "data": {
      "text/plain": [
       "[0, 1, 2, 3, 4, 5, 6, 7, 8, 9]"
      ]
     },
     "execution_count": 10,
     "metadata": {},
     "output_type": "execute_result"
    }
   ],
   "source": [
    "range(10)"
   ]
  },
  {
   "cell_type": "code",
   "execution_count": 11,
   "metadata": {},
   "outputs": [
    {
     "data": {
      "text/plain": [
       "[10, 11, 12, 13, 14, 15, 16, 17, 18, 19]"
      ]
     },
     "execution_count": 11,
     "metadata": {},
     "output_type": "execute_result"
    }
   ],
   "source": [
    "range(10,20)"
   ]
  },
  {
   "cell_type": "code",
   "execution_count": 12,
   "metadata": {},
   "outputs": [
    {
     "data": {
      "text/plain": [
       "[10, 12, 14, 16, 18, 20, 22, 24, 26, 28]"
      ]
     },
     "execution_count": 12,
     "metadata": {},
     "output_type": "execute_result"
    }
   ],
   "source": [
    "range(10,30,2)"
   ]
  },
  {
   "cell_type": "code",
   "execution_count": 1,
   "metadata": {},
   "outputs": [
    {
     "name": "stdout",
     "output_type": "stream",
     "text": [
      "enter a list [2,8,3,9,1]\n",
      "2\n",
      "8\n",
      "3\n",
      "9\n",
      "1\n"
     ]
    }
   ],
   "source": [
    "##### for loop --->> no of elements in a seq\n",
    "'''\n",
    "for ele in seq :\n",
    "    Task\n",
    "    ----\n",
    "'''\n",
    "# wap print the list elements \n",
    "seq = input(\"enter a list \")\n",
    "for ele in seq:\n",
    "    print ele\n",
    "    "
   ]
  },
  {
   "cell_type": "code",
   "execution_count": 3,
   "metadata": {},
   "outputs": [
    {
     "name": "stdout",
     "output_type": "stream",
     "text": [
      "enter num : 5\n",
      "fact :  120\n"
     ]
    }
   ],
   "source": [
    "# wap find the factorial of a number \n",
    "# 5 --->> 5*4*3*2*1 --->> 120\n",
    "num = input(\"enter num : \")\n",
    "fact = 1\n",
    "for ele in range(1,num+1):\n",
    "    fact = fact * ele\n",
    "print \"fact : \",fact "
   ]
  },
  {
   "cell_type": "code",
   "execution_count": 4,
   "metadata": {},
   "outputs": [
    {
     "name": "stdout",
     "output_type": "stream",
     "text": [
      "3125\n"
     ]
    }
   ],
   "source": [
    "a =5\n",
    "b = 5\n",
    "c = a ** b # 5* 5*5*5*5\n",
    "print c"
   ]
  },
  {
   "cell_type": "code",
   "execution_count": null,
   "metadata": {},
   "outputs": [],
   "source": []
  }
 ],
 "metadata": {
  "kernelspec": {
   "display_name": "Python 2",
   "language": "python",
   "name": "python2"
  },
  "language_info": {
   "codemirror_mode": {
    "name": "ipython",
    "version": 2
   },
   "file_extension": ".py",
   "mimetype": "text/x-python",
   "name": "python",
   "nbconvert_exporter": "python",
   "pygments_lexer": "ipython2",
   "version": "2.7.16"
  }
 },
 "nbformat": 4,
 "nbformat_minor": 2
}
