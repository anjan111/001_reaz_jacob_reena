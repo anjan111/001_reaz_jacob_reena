{
 "cells": [
  {
   "cell_type": "code",
   "execution_count": 1,
   "metadata": {},
   "outputs": [
    {
     "name": "stdout",
     "output_type": "stream",
     "text": [
      "hello\n",
      "hai\n",
      "bye\n"
     ]
    }
   ],
   "source": [
    "# single line comment\n",
    "'''\n",
    "this is \n",
    "multiline\n",
    "\n",
    "comment\n",
    "'''\n",
    "print \"hello\"\n",
    "print \"hai\"\n",
    "print \"bye\""
   ]
  },
  {
   "cell_type": "code",
   "execution_count": 2,
   "metadata": {},
   "outputs": [
    {
     "name": "stdout",
     "output_type": "stream",
     "text": [
      "['and', 'as', 'assert', 'break', 'class', 'continue', 'def', 'del', 'elif', 'else', 'except', 'exec', 'finally', 'for', 'from', 'global', 'if', 'import', 'in', 'is', 'lambda', 'not', 'or', 'pass', 'print', 'raise', 'return', 'try', 'while', 'with', 'yield']\n"
     ]
    }
   ],
   "source": [
    "# keywords \n",
    "'''\n",
    "--->> pre deffined words \n",
    "--->> built-in words \n",
    "--->> each and every keyword which j=having its won specific task\n",
    "'''\n",
    "import keyword\n",
    "print keyword.kwlist"
   ]
  },
  {
   "cell_type": "code",
   "execution_count": 3,
   "metadata": {},
   "outputs": [
    {
     "name": "stdout",
     "output_type": "stream",
     "text": [
      "123\n"
     ]
    }
   ],
   "source": [
    "# identifiers \n",
    "'''\n",
    "-->> programmer defined words \n",
    "-->> to give the name entities for variable , classes & functions \n",
    "'''\n",
    "# Rules\n",
    "'''\n",
    "-->> we can use alphabets \n",
    "-->> we can use digits \n",
    "-->> we can use underscore _\n",
    "-->> don't start with digit\n",
    "-->> don't use special character !@#$%^&*()\n",
    "-->> don't use the keywords\n",
    "'''\n",
    "# variable \n",
    "'''\n",
    "-->> to store the data with in the memory loc \n",
    "-->> to access the data from memory loc\n",
    "-->> don't need to be declare the variables\n",
    "'''\n",
    "var = 123\n",
    "print var\n",
    "\n"
   ]
  },
  {
   "cell_type": "code",
   "execution_count": 4,
   "metadata": {},
   "outputs": [
    {
     "name": "stdout",
     "output_type": "stream",
     "text": [
      "34.234\n"
     ]
    }
   ],
   "source": [
    "var = 34.234\n",
    "print var"
   ]
  },
  {
   "cell_type": "code",
   "execution_count": 5,
   "metadata": {},
   "outputs": [
    {
     "name": "stdout",
     "output_type": "stream",
     "text": [
      "123\n"
     ]
    }
   ],
   "source": [
    "VAr_2 = 123\n",
    "print VAr_2"
   ]
  },
  {
   "cell_type": "code",
   "execution_count": 6,
   "metadata": {},
   "outputs": [
    {
     "ename": "SyntaxError",
     "evalue": "invalid syntax (<ipython-input-6-5274f2aa9f0d>, line 1)",
     "output_type": "error",
     "traceback": [
      "\u001b[1;36m  File \u001b[1;32m\"<ipython-input-6-5274f2aa9f0d>\"\u001b[1;36m, line \u001b[1;32m1\u001b[0m\n\u001b[1;33m    3var = 123\u001b[0m\n\u001b[1;37m       ^\u001b[0m\n\u001b[1;31mSyntaxError\u001b[0m\u001b[1;31m:\u001b[0m invalid syntax\n"
     ]
    }
   ],
   "source": [
    "3var = 123"
   ]
  },
  {
   "cell_type": "code",
   "execution_count": 7,
   "metadata": {},
   "outputs": [
    {
     "ename": "SyntaxError",
     "evalue": "invalid syntax (<ipython-input-7-b4644a39e914>, line 1)",
     "output_type": "error",
     "traceback": [
      "\u001b[1;36m  File \u001b[1;32m\"<ipython-input-7-b4644a39e914>\"\u001b[1;36m, line \u001b[1;32m1\u001b[0m\n\u001b[1;33m    while  =123\u001b[0m\n\u001b[1;37m           ^\u001b[0m\n\u001b[1;31mSyntaxError\u001b[0m\u001b[1;31m:\u001b[0m invalid syntax\n"
     ]
    }
   ],
   "source": [
    "while  =123"
   ]
  },
  {
   "cell_type": "code",
   "execution_count": 8,
   "metadata": {},
   "outputs": [
    {
     "ename": "SyntaxError",
     "evalue": "invalid syntax (<ipython-input-8-3e748d594f76>, line 1)",
     "output_type": "error",
     "traceback": [
      "\u001b[1;36m  File \u001b[1;32m\"<ipython-input-8-3e748d594f76>\"\u001b[1;36m, line \u001b[1;32m1\u001b[0m\n\u001b[1;33m    v@r = 123\u001b[0m\n\u001b[1;37m     ^\u001b[0m\n\u001b[1;31mSyntaxError\u001b[0m\u001b[1;31m:\u001b[0m invalid syntax\n"
     ]
    }
   ],
   "source": [
    "v@r = 123"
   ]
  },
  {
   "cell_type": "code",
   "execution_count": 10,
   "metadata": {},
   "outputs": [
    {
     "name": "stdout",
     "output_type": "stream",
     "text": [
      "123\n",
      "<type 'int'>\n"
     ]
    }
   ],
   "source": [
    "# Data types\n",
    "'''\n",
    "To specify the what type of data which is holded by variables\n",
    "\n",
    "type(var) ---> datatype \n",
    "'''\n",
    "# fundametal datatype\n",
    "'''\n",
    "    -> A single variable can hold the single data\n",
    "    1. int\n",
    "    2. float\n",
    "    3. complex\n",
    "    4. bool\n",
    "    5. Nonetype\n",
    "\n",
    "'''\n",
    "\n",
    "var = 123\n",
    "print var\n",
    "print type(var)"
   ]
  },
  {
   "cell_type": "code",
   "execution_count": 11,
   "metadata": {},
   "outputs": [
    {
     "name": "stdout",
     "output_type": "stream",
     "text": [
      "12.353\n",
      "<type 'float'>\n"
     ]
    }
   ],
   "source": [
    "\n",
    "var = 12.353\n",
    "print var\n",
    "print type(var)"
   ]
  },
  {
   "cell_type": "code",
   "execution_count": 12,
   "metadata": {},
   "outputs": [
    {
     "name": "stdout",
     "output_type": "stream",
     "text": [
      "(12+3j)\n",
      "<type 'complex'>\n"
     ]
    }
   ],
   "source": [
    "\n",
    "var = 12 + 3j\n",
    "print var\n",
    "print type(var)"
   ]
  },
  {
   "cell_type": "code",
   "execution_count": 13,
   "metadata": {},
   "outputs": [
    {
     "name": "stdout",
     "output_type": "stream",
     "text": [
      "True\n",
      "<type 'bool'>\n",
      "False\n",
      "<type 'bool'>\n"
     ]
    }
   ],
   "source": [
    "\n",
    "var = True\n",
    "print var\n",
    "print type(var)\n",
    "\n",
    "var = False\n",
    "print var\n",
    "print type(var)"
   ]
  },
  {
   "cell_type": "code",
   "execution_count": 14,
   "metadata": {},
   "outputs": [
    {
     "name": "stdout",
     "output_type": "stream",
     "text": [
      "None\n",
      "<type 'NoneType'>\n"
     ]
    }
   ],
   "source": [
    "\n",
    "var = None\n",
    "print var\n",
    "print type(var)"
   ]
  },
  {
   "cell_type": "code",
   "execution_count": 15,
   "metadata": {},
   "outputs": [
    {
     "name": "stdout",
     "output_type": "stream",
     "text": [
      "soc\n",
      "<type 'str'>\n"
     ]
    }
   ],
   "source": [
    "# sequencial datatype\n",
    "'''\n",
    "--->> a single variable can hold the multiple data elements \n",
    "1. str --->> \" \"\n",
    "2. list --->> []\n",
    "3. tuple ---> ()\n",
    "4. set ---->> {}\n",
    "5.dict --->> {}\n",
    "\n",
    "'''\n",
    "var = \"soc\"\n",
    "print var\n",
    "print type(var)"
   ]
  },
  {
   "cell_type": "code",
   "execution_count": 16,
   "metadata": {},
   "outputs": [
    {
     "name": "stdout",
     "output_type": "stream",
     "text": [
      "[12, 3.3, 5]\n",
      "<type 'list'>\n"
     ]
    }
   ],
   "source": [
    "\n",
    "var = [ 12 , 3.3 ,5]\n",
    "print var\n",
    "print type(var)"
   ]
  },
  {
   "cell_type": "code",
   "execution_count": 17,
   "metadata": {},
   "outputs": [
    {
     "name": "stdout",
     "output_type": "stream",
     "text": [
      "(12, 3.3, 5)\n",
      "<type 'tuple'>\n"
     ]
    }
   ],
   "source": [
    "\n",
    "var = ( 12 , 3.3 ,5)\n",
    "print var\n",
    "print type(var)"
   ]
  },
  {
   "cell_type": "code",
   "execution_count": 18,
   "metadata": {},
   "outputs": [
    {
     "name": "stdout",
     "output_type": "stream",
     "text": [
      "set([3.3, 12, 5])\n",
      "<type 'set'>\n"
     ]
    }
   ],
   "source": [
    "\n",
    "var = { 12 , 3.3 ,5}\n",
    "print var\n",
    "print type(var)"
   ]
  },
  {
   "cell_type": "code",
   "execution_count": 19,
   "metadata": {},
   "outputs": [
    {
     "name": "stdout",
     "output_type": "stream",
     "text": [
      "{3.3: 45, 12: 'soc', 5: '34'}\n",
      "<type 'dict'>\n"
     ]
    }
   ],
   "source": [
    "\n",
    "var = { 12 : \"soc\" , 3.3 : 45 ,5:\"34\"}\n",
    "print var\n",
    "print type(var)"
   ]
  },
  {
   "cell_type": "code",
   "execution_count": 1,
   "metadata": {},
   "outputs": [
    {
     "name": "stdout",
     "output_type": "stream",
     "text": [
      "enter int : 78\n",
      "78\n",
      "<type 'int'>\n",
      "46890192\n",
      "enter int : 78\n",
      "78\n",
      "<type 'str'>\n",
      "82384376\n"
     ]
    }
   ],
   "source": [
    "# input() --->> read the data from keyboard\n",
    "# raw_input() -->> read the datafrom keyword\n",
    "# type() ---->> to know the datatype\n",
    "# id() ------>>. to know the memory loc\n",
    "################ wap read int \n",
    "var = input(\"enter int : \")\n",
    "print var\n",
    "print type(var)\n",
    "print id(var)\n",
    "\n",
    "var =raw_input(\"enter int : \")\n",
    "print var\n",
    "print type(var)\n",
    "print id(var)\n"
   ]
  },
  {
   "cell_type": "code",
   "execution_count": 2,
   "metadata": {},
   "outputs": [
    {
     "name": "stdout",
     "output_type": "stream",
     "text": [
      "enter float : 12.453\n",
      "12.453\n",
      "<type 'float'>\n",
      "75547688\n",
      "enter float : 12.453\n",
      "12.453\n",
      "<type 'str'>\n",
      "82384376\n"
     ]
    }
   ],
   "source": [
    "################ wap read float\n",
    "var = input(\"enter float : \")\n",
    "print var\n",
    "print type(var)\n",
    "print id(var)\n",
    "\n",
    "var =raw_input(\"enter float : \")\n",
    "print var\n",
    "print type(var)\n",
    "print id(var)\n"
   ]
  },
  {
   "cell_type": "code",
   "execution_count": null,
   "metadata": {},
   "outputs": [],
   "source": [
    "# wap 8 programs and for each time introduce the new datatype"
   ]
  },
  {
   "cell_type": "code",
   "execution_count": null,
   "metadata": {},
   "outputs": [],
   "source": []
  }
 ],
 "metadata": {
  "kernelspec": {
   "display_name": "Python 2",
   "language": "python",
   "name": "python2"
  },
  "language_info": {
   "codemirror_mode": {
    "name": "ipython",
    "version": 2
   },
   "file_extension": ".py",
   "mimetype": "text/x-python",
   "name": "python",
   "nbconvert_exporter": "python",
   "pygments_lexer": "ipython2",
   "version": "2.7.16"
  }
 },
 "nbformat": 4,
 "nbformat_minor": 2
}
